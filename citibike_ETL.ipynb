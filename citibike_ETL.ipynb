{
 "cells": [
  {
   "cell_type": "code",
   "execution_count": 1,
   "metadata": {},
   "outputs": [],
   "source": [
    "# !pip install tqdm\n",
    "import numpy as np\n",
    "import pandas as pd\n",
    "import datetime as dt\n",
    "import scipy as sci\n",
    "import tqdm \n",
    "from tqdm import tqdm"
   ]
  },
  {
   "cell_type": "markdown",
   "metadata": {},
   "source": [
    "# Citi Bike Data Sept. 2013-2019"
   ]
  },
  {
   "cell_type": "markdown",
   "metadata": {},
   "source": [
    "### Extract data"
   ]
  },
  {
   "cell_type": "code",
   "execution_count": 2,
   "metadata": {},
   "outputs": [],
   "source": [
    "# Files to Load (Remember to Change These) from year 2014 - four months: 03 - 06 - 09 - 12\n",
    "file01 = \"data/201309-citibike-tripdata.csv\"\n",
    "file02 = \"data/201409-citibike-tripdata.csv\"\n",
    "file03 = \"data/201509-citibike-tripdata.csv\"\n",
    "file04 = \"data/201609-citibike-tripdata.csv\"\n",
    "file05 = \"data/201709-citibike-tripdata.csv\"\n",
    "file06 = \"data/201809-citibike-tripdata.csv\"\n",
    "file07 = \"data/201909-citibike-tripdata.csv\"\n",
    "\n",
    "# Read Purchasing File and store into Pandas data frame\n",
    "td_2013 = pd.read_csv(file01)\n",
    "td_2013.name = '2013'\n",
    "td_2014 = pd.read_csv(file02)\n",
    "td_2014.name = '2014'\n",
    "td_2015 = pd.read_csv(file03)\n",
    "td_2015.name = '2015'\n",
    "td_2016 = pd.read_csv(file04)\n",
    "td_2016.name = '2016'\n",
    "td_2017 = pd.read_csv(file05)\n",
    "td_2017.name = '2017'\n",
    "td_2018 = pd.read_csv(file06)\n",
    "td_2018.name = '2018'\n",
    "td_2019 = pd.read_csv(file07)\n",
    "td_2019.name = '2019'\n"
   ]
  },
  {
   "cell_type": "code",
   "execution_count": 4,
   "metadata": {},
   "outputs": [],
   "source": [
    "## make DFs for each year into a list to iterate\n",
    "df_list = [td_2013, td_2014, td_2015, td_2016, td_2017, td_2019]\n",
    "df2_list = [td_2013, td_2014, td_2015, td_2016, td_2017, td_2018, td_2019]\n",
    "# last_minute = [td_2013, td_2019]"
   ]
  },
  {
   "cell_type": "markdown",
   "metadata": {},
   "source": [
    "#### Clean and format data for 2013"
   ]
  },
  {
   "cell_type": "code",
   "execution_count": 5,
   "metadata": {},
   "outputs": [
    {
     "name": "stdout",
     "output_type": "stream",
     "text": [
      "--------2013---------\n",
      "2013: 1034359\n",
      "-----------------\n",
      "tripduration                 int64\n",
      "starttime                   object\n",
      "stoptime                    object\n",
      "start station id             int64\n",
      "start station name          object\n",
      "start station latitude     float64\n",
      "start station longitude    float64\n",
      "end station id               int64\n",
      "end station name            object\n",
      "end station latitude       float64\n",
      "end station longitude      float64\n",
      "bikeid                       int64\n",
      "usertype                    object\n",
      "birth year                   int64\n",
      "gender                       int64\n",
      "dtype: object\n",
      "-----------------\n",
      "tripduration               0\n",
      "starttime                  0\n",
      "stoptime                   0\n",
      "start station id           0\n",
      "start station name         0\n",
      "start station latitude     0\n",
      "start station longitude    0\n",
      "end station id             0\n",
      "end station name           0\n",
      "end station latitude       0\n",
      "end station longitude      0\n",
      "bikeid                     0\n",
      "usertype                   0\n",
      "birth year                 0\n",
      "gender                     0\n",
      "dtype: int64\n",
      "--------2014---------\n",
      "2014: 953887\n",
      "-----------------\n",
      "tripduration                 int64\n",
      "starttime                   object\n",
      "stoptime                    object\n",
      "start station id             int64\n",
      "start station name          object\n",
      "start station latitude     float64\n",
      "start station longitude    float64\n",
      "end station id               int64\n",
      "end station name            object\n",
      "end station latitude       float64\n",
      "end station longitude      float64\n",
      "bikeid                       int64\n",
      "usertype                    object\n",
      "birth year                   int64\n",
      "gender                       int64\n",
      "dtype: object\n",
      "-----------------\n",
      "tripduration               0\n",
      "starttime                  0\n",
      "stoptime                   0\n",
      "start station id           0\n",
      "start station name         0\n",
      "start station latitude     0\n",
      "start station longitude    0\n",
      "end station id             0\n",
      "end station name           0\n",
      "end station latitude       0\n",
      "end station longitude      0\n",
      "bikeid                     0\n",
      "usertype                   0\n",
      "birth year                 0\n",
      "gender                     0\n",
      "dtype: int64\n",
      "--------2015---------\n",
      "2015: 1048575\n",
      "-----------------\n",
      "tripduration                 int64\n",
      "starttime                   object\n",
      "stoptime                    object\n",
      "start station id             int64\n",
      "start station name          object\n",
      "start station latitude     float64\n",
      "start station longitude    float64\n",
      "end station id               int64\n",
      "end station name            object\n",
      "end station latitude       float64\n",
      "end station longitude      float64\n",
      "bikeid                       int64\n",
      "usertype                    object\n",
      "birth year                   int64\n",
      "gender                       int64\n",
      "dtype: object\n",
      "-----------------\n",
      "tripduration               0\n",
      "starttime                  0\n",
      "stoptime                   0\n",
      "start station id           0\n",
      "start station name         0\n",
      "start station latitude     0\n",
      "start station longitude    0\n",
      "end station id             0\n",
      "end station name           0\n",
      "end station latitude       0\n",
      "end station longitude      0\n",
      "bikeid                     0\n",
      "usertype                   0\n",
      "birth year                 0\n",
      "gender                     0\n",
      "dtype: int64\n",
      "--------2016---------\n",
      "2016: 1048575\n",
      "-----------------\n",
      "tripduration                 int64\n",
      "starttime                   object\n",
      "stoptime                    object\n",
      "start station id             int64\n",
      "start station name          object\n",
      "start station latitude     float64\n",
      "start station longitude    float64\n",
      "end station id               int64\n",
      "end station name            object\n",
      "end station latitude       float64\n",
      "end station longitude      float64\n",
      "bikeid                       int64\n",
      "usertype                    object\n",
      "birth year                   int64\n",
      "gender                       int64\n",
      "dtype: object\n",
      "-----------------\n",
      "tripduration               0\n",
      "starttime                  0\n",
      "stoptime                   0\n",
      "start station id           0\n",
      "start station name         0\n",
      "start station latitude     0\n",
      "start station longitude    0\n",
      "end station id             0\n",
      "end station name           0\n",
      "end station latitude       0\n",
      "end station longitude      0\n",
      "bikeid                     0\n",
      "usertype                   0\n",
      "birth year                 0\n",
      "gender                     0\n",
      "dtype: int64\n",
      "--------2017---------\n",
      "2017: 1048575\n",
      "-----------------\n",
      "tripduration                 int64\n",
      "starttime                   object\n",
      "stoptime                    object\n",
      "start station id             int64\n",
      "start station name          object\n",
      "start station latitude     float64\n",
      "start station longitude    float64\n",
      "end station id               int64\n",
      "end station name            object\n",
      "end station latitude       float64\n",
      "end station longitude      float64\n",
      "bikeid                       int64\n",
      "usertype                    object\n",
      "birth year                   int64\n",
      "gender                       int64\n",
      "dtype: object\n",
      "-----------------\n",
      "tripduration               0\n",
      "starttime                  0\n",
      "stoptime                   0\n",
      "start station id           0\n",
      "start station name         0\n",
      "start station latitude     0\n",
      "start station longitude    0\n",
      "end station id             0\n",
      "end station name           0\n",
      "end station latitude       0\n",
      "end station longitude      0\n",
      "bikeid                     0\n",
      "usertype                   0\n",
      "birth year                 0\n",
      "gender                     0\n",
      "dtype: int64\n",
      "--------2018---------\n",
      "2018: 1048575\n",
      "-----------------\n",
      "tripduration                 int64\n",
      "starttime                   object\n",
      "stoptime                    object\n",
      "start station id           float64\n",
      "start station name          object\n",
      "start station latitude     float64\n",
      "start station longitude    float64\n",
      "end station id             float64\n",
      "end station name            object\n",
      "end station latitude       float64\n",
      "end station longitude      float64\n",
      "bikeid                       int64\n",
      "usertype                    object\n",
      "birth year                   int64\n",
      "gender                       int64\n",
      "dtype: object\n",
      "-----------------\n",
      "tripduration                 0\n",
      "starttime                    0\n",
      "stoptime                     0\n",
      "start station id           462\n",
      "start station name         462\n",
      "start station latitude       0\n",
      "start station longitude      0\n",
      "end station id             462\n",
      "end station name           462\n",
      "end station latitude         0\n",
      "end station longitude        0\n",
      "bikeid                       0\n",
      "usertype                     0\n",
      "birth year                   0\n",
      "gender                       0\n",
      "dtype: int64\n",
      "--------2019---------\n",
      "2019: 2444900\n",
      "-----------------\n",
      "tripduration                 int64\n",
      "starttime                   object\n",
      "stoptime                    object\n",
      "start station id             int64\n",
      "start station name          object\n",
      "start station latitude     float64\n",
      "start station longitude    float64\n",
      "end station id               int64\n",
      "end station name            object\n",
      "end station latitude       float64\n",
      "end station longitude      float64\n",
      "bikeid                       int64\n",
      "usertype                    object\n",
      "birth year                   int64\n",
      "gender                       int64\n",
      "dtype: object\n",
      "-----------------\n",
      "tripduration               0\n",
      "starttime                  0\n",
      "stoptime                   0\n",
      "start station id           0\n",
      "start station name         0\n",
      "start station latitude     0\n",
      "start station longitude    0\n",
      "end station id             0\n",
      "end station name           0\n",
      "end station latitude       0\n",
      "end station longitude      0\n",
      "bikeid                     0\n",
      "usertype                   0\n",
      "birth year                 0\n",
      "gender                     0\n",
      "dtype: int64\n"
     ]
    }
   ],
   "source": [
    "## Find out datatypes and null-values in separate files\n",
    "for df in df2_list:\n",
    "    print(f\"--------{df.name}---------\")\n",
    "    print(f\"{df.name}: {len(df)}\")\n",
    "    print(\"-----------------\")\n",
    "    print(df.dtypes)\n",
    "    print(\"-----------------\")\n",
    "    print(df.isnull().sum())\n"
   ]
  },
  {
   "cell_type": "markdown",
   "metadata": {},
   "source": [
    "##### Time and Year"
   ]
  },
  {
   "cell_type": "markdown",
   "metadata": {},
   "source": [
    "Convert starttime and stoptime columns to datetime and keep time in new column; drop original columns"
   ]
  },
  {
   "cell_type": "code",
   "execution_count": null,
   "metadata": {},
   "outputs": [
    {
     "name": "stderr",
     "output_type": "stream",
     "text": [
      " 17%|█▋        | 1/6 [04:50<24:13, 290.80s/it]"
     ]
    }
   ],
   "source": [
    "for df in tqdm(df_list):\n",
    "    df['start_time'] = pd.to_datetime(df['starttime']).dt.time\n",
    "    df['stop_time'] = pd.to_datetime(df['stoptime']).dt.time\n",
    "    df['year'] = pd.to_datetime(df['stoptime']).dt.year\n",
    "\n",
    "    df.drop([\"starttime\",\"stoptime\"], axis=1, inplace=True)\n",
    "    df"
   ]
  },
  {
   "cell_type": "code",
   "execution_count": null,
   "metadata": {},
   "outputs": [],
   "source": [
    "for df in tqdm(last_minute):\n",
    "    df['start_time'] = pd.to_datetime(df['starttime']).dt.time\n",
    "    df['stop_time'] = pd.to_datetime(df['stoptime']).dt.time\n",
    "    df['year'] = pd.to_datetime(df['stoptime']).dt.year\n",
    "\n",
    "    df.drop([\"starttime\",\"stoptime\"], axis=1, inplace=True)"
   ]
  },
  {
   "cell_type": "code",
   "execution_count": null,
   "metadata": {},
   "outputs": [],
   "source": [
    "td_2013"
   ]
  },
  {
   "cell_type": "code",
   "execution_count": null,
   "metadata": {},
   "outputs": [],
   "source": [
    "## create Year column for 2018 and 2019 datasets\n",
    "td_2018[\"year\"] = 2018\n",
    "td_2019[\"year\"] = 2019"
   ]
  },
  {
   "cell_type": "markdown",
   "metadata": {},
   "source": [
    "##### Age and Age-groups"
   ]
  },
  {
   "cell_type": "markdown",
   "metadata": {},
   "source": [
    "Calculate age of rider from birthyear column and keep in new column \"age\".\n",
    "Birthyear rows with null-values will be converted to \"2020\" (e.i., 2020 - 2020 = 0 = age)"
   ]
  },
  {
   "cell_type": "code",
   "execution_count": null,
   "metadata": {},
   "outputs": [],
   "source": [
    "### check count for null-values; transform null-values into \"2020\"; check count for null-vales\n",
    "for df in tqdm(df2_list):\n",
    "    print(f\"--------{df.name}---------\")\n",
    "    print(df[\"birth year\"].isnull().sum())\n",
    "    df['birth year'].fillna(2020)\n",
    "    print(df[\"birth year\"].isnull().sum())"
   ]
  },
  {
   "cell_type": "code",
   "execution_count": null,
   "metadata": {},
   "outputs": [],
   "source": [
    "## Calculate age by subtracting birth year from current year\n",
    "currentyear = dt.datetime.now().year\n",
    "\n",
    "td_2013[\"age\"] = currentyear - df[[\"birth year\"]]\n",
    "    ### set conditions for age-group categories\n",
    "conditions = [\n",
    "    (td_2013['age'] <= 15),\n",
    "    (td_2013['age'] >= 16) & (td_2013['age'] <= 24),\n",
    "    (td_2013['age'] >= 25) & (td_2013['age'] <= 44),\n",
    "    (td_2013['age'] >= 45) & (td_2013['age'] <= 64),\n",
    "    (td_2013['age'] >= 65) & (td_2013['age'] <= 105),\n",
    "    (td_2013['age'] > 105)]\n",
    "choices = [0, 1, 2, 3, 4, 5]\n",
    "    ### Create new column for age-group categories \n",
    "td_2013['age_group'] = np.select(conditions, choices, default='0')\n",
    "print(td_2013.head())"
   ]
  },
  {
   "cell_type": "code",
   "execution_count": null,
   "metadata": {},
   "outputs": [],
   "source": [
    "## Calculate age by subtracting birth year from current year\n",
    "currentyear = dt.datetime.now().year\n",
    "## Create new column\n",
    "for df in tqdm(df2_list):\n",
    "    df[\"age\"] = currentyear - df[[\"birth year\"]]\n",
    "    ### set conditions for age-group categories\n",
    "    conditions = [\n",
    "        (df['age'] <= 15),\n",
    "        (df['age'] >= 16) & (df['age'] <= 24),\n",
    "        (df['age'] >= 25) & (df['age'] <= 44),\n",
    "        (df['age'] >= 45) & (df['age'] <= 64),\n",
    "        (df['age'] >= 65) & (df['age'] <= 105),\n",
    "        (df['age'] > 105)]\n",
    "    choices = [0, 1, 2, 3, 4, 5]\n",
    "    ### Create new column for age-group categories \n",
    "    df['age_group'] = np.select(conditions, choices, default='0')\n",
    "    print(df.head())"
   ]
  },
  {
   "cell_type": "markdown",
   "metadata": {},
   "source": [
    "##### Gender and user-type (NOT WORKING)"
   ]
  },
  {
   "cell_type": "markdown",
   "metadata": {},
   "source": [
    "One-hot encoding for Gender and Usertype columns"
   ]
  },
  {
   "cell_type": "code",
   "execution_count": null,
   "metadata": {},
   "outputs": [],
   "source": [
    "# for df in tqdm(df2_list):\n",
    "#     df = pd.get_dummies(df, columns=[\"gender\", \"usertype\"])\n",
    "#     df = df.rename(columns={\"gender_1\" : \"male\", \"gender_2\": \"female\"})\n",
    "#     print(df.head())"
   ]
  },
  {
   "cell_type": "code",
   "execution_count": null,
   "metadata": {},
   "outputs": [],
   "source": []
  },
  {
   "cell_type": "code",
   "execution_count": null,
   "metadata": {},
   "outputs": [],
   "source": [
    "td_2018 = td_2018.rename(columns={\"starttime\" : \"start_time\", \"stoptime\": \"stop_time\"})"
   ]
  },
  {
   "cell_type": "code",
   "execution_count": null,
   "metadata": {},
   "outputs": [],
   "source": []
  },
  {
   "cell_type": "code",
   "execution_count": null,
   "metadata": {},
   "outputs": [],
   "source": []
  },
  {
   "cell_type": "code",
   "execution_count": null,
   "metadata": {},
   "outputs": [],
   "source": []
  },
  {
   "cell_type": "code",
   "execution_count": null,
   "metadata": {},
   "outputs": [],
   "source": []
  },
  {
   "cell_type": "markdown",
   "metadata": {},
   "source": [
    "Reorganize columns to match"
   ]
  },
  {
   "cell_type": "code",
   "execution_count": null,
   "metadata": {},
   "outputs": [],
   "source": [
    "for df in df2_list:\n",
    "    df = df[['tripduration', 'start station id', 'start station name',\n",
    "       'start station latitude', 'start station longitude', 'end station id',\n",
    "       'end station name', 'end station latitude', 'end station longitude',\n",
    "       'bikeid', 'usertype', 'birth year', 'gender', 'start_time', 'stop_time',\n",
    "       'year', 'age', 'age_group']]"
   ]
  },
  {
   "cell_type": "code",
   "execution_count": null,
   "metadata": {},
   "outputs": [],
   "source": [
    "# ## change format of column names using .lower() to match other 2016 datasets\n",
    "# td_2013.columns = map(str.lower, df.columns)\n",
    "# # df = df.rename(columns={'trip duration': 'tripduration', 'start time' : 'starttime', 'stop time': 'stoptime','bike id': 'bikeid', 'user type': 'usertype'})\n",
    "\n",
    "td_2018.columns"
   ]
  },
  {
   "cell_type": "code",
   "execution_count": null,
   "metadata": {},
   "outputs": [],
   "source": []
  },
  {
   "cell_type": "code",
   "execution_count": null,
   "metadata": {},
   "outputs": [],
   "source": []
  },
  {
   "cell_type": "code",
   "execution_count": null,
   "metadata": {},
   "outputs": [],
   "source": []
  },
  {
   "cell_type": "markdown",
   "metadata": {},
   "source": [
    "## Export Station ID and Names as new csv"
   ]
  },
  {
   "cell_type": "markdown",
   "metadata": {},
   "source": [
    "Create new DF of Station Info to link ID to station name"
   ]
  },
  {
   "cell_type": "code",
   "execution_count": null,
   "metadata": {},
   "outputs": [],
   "source": [
    "for df in tqdm(df2_list):\n",
    "    start_stations = df[[\"start station id\", \"start station name\", \"start station latitude\", \"start station longitude\", \"year\"]].copy()\n",
    "    end_stations = df[[\"end station id\", \"end station name\", \"end station latitude\", \"end station longitude\", \"year\"]].copy()\n",
    "    start_stations = start_stations.drop_duplicates().sort_values(by=['start station id']).reset_index()\n",
    "    end_stations = end_stations.drop_duplicates().sort_values(by=['end station id']).reset_index()\n",
    "    start_stations = start_stations.drop(\"index\", axis=1)\n",
    "    start_stations = start_stations.rename(columns={\"start station id\" : \"station id\", \"start station name\": \"station name\", \"start station latitude\": \"station latitude\", \"start station longitude\": \"station longitude\"})\n",
    "    end_stations = end_stations.drop(\"index\", axis=1)\n",
    "    end_stations = end_stations.rename(columns={\"end station id\" : \"station id\", \"end station name\": \"station name\", \"end station latitude\": \"station latitude\", \"end station longitude\": \"station longitude\"})\n",
    "    print(f\"{df.name}: {len(start_stations)}\")\n",
    "    print(f\" {df.name} : {len(end_stations)}\")\n",
    "    stations = pd.concat([start_stations, end_stations], axis=0, ignore_index=True, sort=True)  \n",
    "    stations = stations.drop_duplicates().sort_values(by=['station id']).reset_index()\n",
    "    stations = stations.drop(\"index\", axis=1)\n",
    "    print(f\"total stations: {len(stations)}\")\n",
    "    print(\"----------------\")\n",
    "    stations.to_csv(f\"CB_{df.name}Stations_Info.csv\", index=True)"
   ]
  },
  {
   "cell_type": "code",
   "execution_count": null,
   "metadata": {},
   "outputs": [],
   "source": []
  },
  {
   "cell_type": "code",
   "execution_count": null,
   "metadata": {},
   "outputs": [],
   "source": []
  },
  {
   "cell_type": "markdown",
   "metadata": {},
   "source": [
    "### Load all data into one DF"
   ]
  },
  {
   "cell_type": "code",
   "execution_count": null,
   "metadata": {},
   "outputs": [],
   "source": [
    "## concatenate 201406 and 201412 DFs\n",
    "data_09_13to19 = pd.concat(df_list)\n",
    "datacopy = data_09_13to19.copy()\n",
    "print(f\"original: {len(data_09_13to19)}\")\n",
    "print(f\" copy: {len(datacopy)}\")\n",
    "datacopy"
   ]
  },
  {
   "cell_type": "code",
   "execution_count": null,
   "metadata": {},
   "outputs": [],
   "source": [
    "print(datacopy.isnull().sum())\n",
    "print(\"-------------------------\")\n",
    "print(datacopy.dtypes)\n",
    "print(\"-------------------------\")\n",
    "print(datacopy.columns)"
   ]
  },
  {
   "cell_type": "code",
   "execution_count": null,
   "metadata": {},
   "outputs": [],
   "source": [
    "datacopy = datacopy.dropna()"
   ]
  },
  {
   "cell_type": "code",
   "execution_count": null,
   "metadata": {},
   "outputs": [],
   "source": [
    "print(f\"original: {len(data_09_13to19)}\")\n",
    "print(f\"DF: {len(datacopy)}\")"
   ]
  },
  {
   "cell_type": "code",
   "execution_count": null,
   "metadata": {},
   "outputs": [],
   "source": []
  },
  {
   "cell_type": "markdown",
   "metadata": {},
   "source": [
    "### Transform ALL year data - in datacopy DF"
   ]
  },
  {
   "cell_type": "code",
   "execution_count": null,
   "metadata": {},
   "outputs": [],
   "source": [
    "## Calculate age by subtracting birth year from current year\n",
    "currentyear = dt.datetime.now().year\n",
    "\n",
    "## Create new column\n",
    "datacopy[\"age\"] = currentyear - datacopy[[\"birth year\"]]\n",
    "\n",
    "datacopy"
   ]
  },
  {
   "cell_type": "code",
   "execution_count": null,
   "metadata": {},
   "outputs": [],
   "source": [
    "print(datacopy.isnull().sum())\n",
    "print(\"-------------------------\")\n",
    "print(datacopy.dtypes)"
   ]
  },
  {
   "cell_type": "code",
   "execution_count": null,
   "metadata": {},
   "outputs": [],
   "source": [
    "print(f\"DF: {len(datacopy)}\")"
   ]
  },
  {
   "cell_type": "markdown",
   "metadata": {},
   "source": [
    "### Export ALL data (2013-2019)"
   ]
  },
  {
   "cell_type": "code",
   "execution_count": null,
   "metadata": {},
   "outputs": [],
   "source": [
    "# export main file as csv\n",
    "datacopy.to_csv(\"CBtripdata-SEPT_13-19.csv\", index=False)"
   ]
  },
  {
   "cell_type": "markdown",
   "metadata": {},
   "source": [
    "# Citi Bike Data 2013"
   ]
  },
  {
   "cell_type": "markdown",
   "metadata": {},
   "source": [
    "### Transform data from source files"
   ]
  },
  {
   "cell_type": "code",
   "execution_count": null,
   "metadata": {},
   "outputs": [],
   "source": [
    "## Find out datatypes and null-values in separate files\n",
    "print(td_2013.dtypes)\n",
    "print(td_2013.isnull().sum())\n",
    "print(\"-----------------\")\n"
   ]
  },
  {
   "cell_type": "code",
   "execution_count": null,
   "metadata": {},
   "outputs": [],
   "source": [
    "## convert starttime and stoptime to timestamp format in new column\n",
    "test = td_2013.copy()\n",
    "\n",
    "for index, row in test.iterrows(): \n",
    "    string = row[\"starttime\"]\n",
    "    element = dt.datetime.strptime(string,\"%m/%d/%Y %H:%M\") \n",
    "    test[\"starttimestamp\"] = dt.datetime.timestamp(element) \n",
    "\n",
    "    # string2 = row[\"stoptime\"]\n",
    "    # element = datetime.datetime.strptime(string2,\"%Y-%m-%d %H:%M:%S.%f\") \n",
    "    # test[\"stoptimestamp\"] = datetime.datetime.timestamp(element) \n",
    "\n",
    "# # iterate through each row and select  \n",
    "# for ind in test.index: \n",
    "#      string = test[\"starttime\"]\n",
    "#      element = datetime.datetime.strptime(string,\"%Y-%m-%d %H:%M:%S.%f\") \n",
    "#      test[\"starttimestamp\"] = datetime.datetime.timestamp(element) \n",
    "\n",
    "#      string2 = test[\"stoptime\"]\n",
    "#      element = datetime.datetime.strptime(string2,\"%Y-%m-%d %H:%M:%S.%f\") \n",
    "#      test[\"stoptimestamp\"] = datetime.datetime.timestamp(element) \n",
    "\n",
    "test"
   ]
  },
  {
   "cell_type": "markdown",
   "metadata": {},
   "source": [
    "### Transform Data"
   ]
  },
  {
   "cell_type": "code",
   "execution_count": null,
   "metadata": {},
   "outputs": [],
   "source": [
    "## change formate of column names using .lower() to match other 2016 datasets\n",
    "td_201612.columns = map(str.lower, td_201612.columns)\n",
    "td_201612 = td_201612.rename(columns={'trip duration': 'tripduration', 'start time' : 'starttime', 'stop time': 'stoptime','bike id': 'bikeid', 'user type': 'usertype'})\n",
    "\n",
    "td_201612.columns"
   ]
  },
  {
   "cell_type": "code",
   "execution_count": null,
   "metadata": {},
   "outputs": [],
   "source": [
    "## Want to keep cases with null-values in \"birth year\" column\n",
    "## Replace NA with \"2020\" instead of dropping to later separate into age group bins\n",
    "td_201603['birth year'] = td_201603['birth year'].fillna(2020)\n",
    "td_201606['birth year'] = td_201606['birth year'].fillna(2020)\n",
    "td_201609['birth year'] = td_201609['birth year'].fillna(2020)\n",
    "td_201612['birth year'] = td_201612['birth year'].fillna(2020)"
   ]
  },
  {
   "cell_type": "code",
   "execution_count": null,
   "metadata": {},
   "outputs": [],
   "source": [
    "## Find out datatypes and null-values in separate files\n",
    "print(td_201603.dtypes)\n",
    "print(td_201603.isnull().sum())\n",
    "print(\"-----------------\")\n",
    "print(td_201606.dtypes)\n",
    "print(td_201606.isnull().sum())\n",
    "print(\"-----------------\")\n",
    "print(td_201609.dtypes)\n",
    "print(td_201609.isnull().sum())\n",
    "print(\"-----------------\")\n",
    "print(td_201612.dtypes)\n",
    "print(td_201612.isnull().sum())"
   ]
  },
  {
   "cell_type": "code",
   "execution_count": null,
   "metadata": {},
   "outputs": [],
   "source": [
    "td_201612['usertype'] = td_201612['usertype'].dropna()"
   ]
  },
  {
   "cell_type": "code",
   "execution_count": null,
   "metadata": {},
   "outputs": [],
   "source": [
    "## Find out datatypes and null-values in separate files\n",
    "print(td_201603.dtypes)\n",
    "print(td_201603.isnull().sum())\n",
    "print(\"---------06--------\")\n",
    "print(td_201606.dtypes)\n",
    "print(td_201606.isnull().sum())\n",
    "print(\"--------09---------\")\n",
    "print(td_201609.dtypes)\n",
    "print(td_201609.isnull().sum())\n",
    "print(\"--------12---------\")\n",
    "print(td_201612.dtypes)\n",
    "print(td_201612.isnull().sum())"
   ]
  },
  {
   "cell_type": "code",
   "execution_count": null,
   "metadata": {},
   "outputs": [],
   "source": [
    "## concatenate 201603, 201606, 201609 and 201612 DFs\n",
    "td2016 = pd.concat([td_201603, td_201606, td_201609, td_201612], axis=0, ignore_index=True)\n",
    "print(len(td2016))\n",
    "copy2016 = td2016.copy()\n",
    "copy2016.dropna()"
   ]
  },
  {
   "cell_type": "code",
   "execution_count": null,
   "metadata": {},
   "outputs": [],
   "source": [
    "copy2016 = copy2016.dropna()\n",
    "print(len(td2016))"
   ]
  },
  {
   "cell_type": "code",
   "execution_count": null,
   "metadata": {},
   "outputs": [],
   "source": [
    "## check new DF for null-values and data-types\n",
    "print(len(td2016))\n",
    "print(copy2016.isnull().sum())\n",
    "print(\"-------------------------\")\n",
    "print(copy2016.dtypes)\n",
    "print(\"-------------------------\")\n",
    "print(copy2016.columns)"
   ]
  },
  {
   "cell_type": "markdown",
   "metadata": {},
   "source": [
    "### Transform data in copy2016"
   ]
  },
  {
   "cell_type": "code",
   "execution_count": null,
   "metadata": {},
   "outputs": [],
   "source": [
    "## Calculate age by subtracting birth year from current year\n",
    "currentyear = dt.datetime.now().year\n",
    "\n",
    "## Create new column\n",
    "copy2016[\"age\"] = currentyear - copy2016[[\"birth year\"]]\n",
    "\n",
    "copy2016"
   ]
  },
  {
   "cell_type": "code",
   "execution_count": null,
   "metadata": {},
   "outputs": [],
   "source": [
    "## parse date and time into new columns\n",
    "copy2016[\"start\"] = pd.to_datetime(copy2016[\"starttime\"])\n",
    "copy2016[\"stop\"] = pd.to_datetime(copy2016[\"stoptime\"])\n",
    "copy2016[\"startdate\"] = pd.to_datetime(copy2016['start']).dt.date\n",
    "copy2016['starttime'] = pd.to_datetime(copy2016['start']).dt.time\n",
    "copy2016[\"stopdate\"] = pd.to_datetime(copy2016['stop']).dt.date\n",
    "copy2016['stoptime'] = pd.to_datetime(copy2016['stop']).dt.time"
   ]
  },
  {
   "cell_type": "code",
   "execution_count": null,
   "metadata": {},
   "outputs": [],
   "source": [
    "copy2016"
   ]
  },
  {
   "cell_type": "code",
   "execution_count": null,
   "metadata": {},
   "outputs": [],
   "source": [
    "## add column names to list to reorganize DF\n",
    "cols = list(copy2016.columns)\n",
    "cols"
   ]
  },
  {
   "cell_type": "code",
   "execution_count": null,
   "metadata": {},
   "outputs": [],
   "source": [
    "cols = ['tripduration','start','stop','start station id','start station name','start station latitude','start station longitude','end station id','end station name','end station latitude','end station longitude','bikeid','usertype','birth year','age','gender','startdate','starttime', 'stopdate','stoptime']\n",
    "\n",
    "copy2016 = copy2016[cols]\n",
    "\n",
    "copy2016.head()"
   ]
  },
  {
   "cell_type": "markdown",
   "metadata": {},
   "source": [
    "### Export copy2016 to csv"
   ]
  },
  {
   "cell_type": "code",
   "execution_count": null,
   "metadata": {},
   "outputs": [],
   "source": [
    "# export main file as csv\n",
    "copy2016.to_csv(\"tripdataFULL_2016.csv\", index=False)"
   ]
  },
  {
   "cell_type": "code",
   "execution_count": null,
   "metadata": {},
   "outputs": [],
   "source": []
  },
  {
   "cell_type": "markdown",
   "metadata": {},
   "source": [
    "## Citi Bike Data 2018"
   ]
  },
  {
   "cell_type": "markdown",
   "metadata": {},
   "source": [
    "### Extract 2018 data from files"
   ]
  },
  {
   "cell_type": "code",
   "execution_count": null,
   "metadata": {},
   "outputs": [],
   "source": [
    "# File to Load - year: 2016 ; four months: 03 - 06 - 09 - 12\n",
    "file01 = \"TripData/2018/201803-citibike-tripdata.csv\"\n",
    "file02 = \"TripData/2018/201806-citibike-tripdata.csv\"\n",
    "file03 = \"TripData/2018/201809-citibike-tripdata.csv\"\n",
    "file04 = \"TripData/2018/201812-citibike-tripdata.csv\"\n",
    "\n",
    "# Read Purchasing File and store into Pandas data frame\n",
    "td_201803 = pd.read_csv(file01)\n",
    "td_201806 = pd.read_csv(file02)\n",
    "td_201809 = pd.read_csv(file03)\n",
    "td_201812 = pd.read_csv(file04)\n"
   ]
  },
  {
   "cell_type": "code",
   "execution_count": null,
   "metadata": {},
   "outputs": [],
   "source": [
    "## Find out datatypes and null-values in separate files\n",
    "print(td_201803.dtypes)\n",
    "print(td_201803.isnull().sum())\n",
    "print(\"-----------------\")\n",
    "print(td_201806.dtypes)\n",
    "print(td_201806.isnull().sum())\n",
    "print(\"-----------------\")\n",
    "print(td_201809.dtypes)\n",
    "print(td_201809.isnull().sum())\n",
    "print(\"-----------------\")\n",
    "print(td_201812.dtypes)\n",
    "print(td_201812.isnull().sum())"
   ]
  },
  {
   "cell_type": "code",
   "execution_count": null,
   "metadata": {},
   "outputs": [],
   "source": [
    "td_201803 = td_201803.dropna()\n",
    "td_201806 = td_201806.dropna()\n",
    "td_201809 = td_201809.dropna()\n",
    "td_201812 = td_201812.dropna()\n",
    "\n",
    "print(td_201803.isnull().sum())\n",
    "print(\"--------06---------\")\n",
    "print(td_201806.isnull().sum())\n",
    "print(\"--------09---------\")\n",
    "print(td_201809.isnull().sum())\n",
    "print(\"--------12---------\")\n",
    "print(td_201812.isnull().sum())"
   ]
  },
  {
   "cell_type": "code",
   "execution_count": null,
   "metadata": {},
   "outputs": [],
   "source": [
    "## check column headers are the same\n",
    "\n",
    "print(td_201803.columns)\n",
    "print(td_201806.columns)\n",
    "print(td_201809.columns)\n",
    "print(td_201812.columns)"
   ]
  },
  {
   "cell_type": "code",
   "execution_count": null,
   "metadata": {},
   "outputs": [],
   "source": [
    "## concatenate 201603, 201606, 201609 and 201612 DFs\n",
    "td2018 = pd.concat([td_201803, td_201806, td_201809, td_201812], axis=0, ignore_index=True)\n",
    "print(len(td2018))\n",
    "copy2018 = td2018.copy()"
   ]
  },
  {
   "cell_type": "code",
   "execution_count": null,
   "metadata": {},
   "outputs": [],
   "source": [
    "## view new DF\n",
    "copy2018"
   ]
  },
  {
   "cell_type": "code",
   "execution_count": null,
   "metadata": {},
   "outputs": [],
   "source": [
    "## check for null-values in new DF; print length of original and copy\n",
    "print(f\"original: {len(td2018)}\")\n",
    "print(f\"copy2018: {len(copy2018)}\")\n",
    "print(f\"null-values: {copy2018.isnull().count()}\")\n"
   ]
  },
  {
   "cell_type": "code",
   "execution_count": null,
   "metadata": {},
   "outputs": [],
   "source": [
    "## check new DF for null-values\n",
    "copy2018.dropna()"
   ]
  },
  {
   "cell_type": "code",
   "execution_count": null,
   "metadata": {},
   "outputs": [],
   "source": [
    "#convert starttime and stoptime columns to datetime object (rename start and stop) and parse date from time and create new columns\n",
    "copy2018[\"start\"] = pd.to_datetime(copy2018[\"starttime\"])\n",
    "copy2018[\"stop\"] = pd.to_datetime(copy2018[\"stoptime\"])\n",
    "copy2018[\"startdate\"] = pd.to_datetime(copy2018['start']).dt.date\n",
    "copy2018['starttime'] = pd.to_datetime(copy2018['start']).dt.time\n",
    "copy2018[\"stopdate\"] = pd.to_datetime(copy2018['stop']).dt.date\n",
    "copy2018['stoptime'] = pd.to_datetime(copy2018['stop']).dt.time\n",
    "\n",
    "copy2018"
   ]
  },
  {
   "cell_type": "code",
   "execution_count": null,
   "metadata": {},
   "outputs": [],
   "source": [
    "## Calculate age by subtracting birth year from current year\n",
    "currentyear = dt.datetime.now().year\n",
    "\n",
    "## Create new column\n",
    "copy2018[\"age\"] = currentyear - copy2018[[\"birth year\"]]\n",
    "\n",
    "copy2018"
   ]
  },
  {
   "cell_type": "code",
   "execution_count": null,
   "metadata": {},
   "outputs": [],
   "source": [
    "## add column names to list to reorganize DF\n",
    "cols = list(copy2018.columns)\n",
    "cols"
   ]
  },
  {
   "cell_type": "code",
   "execution_count": null,
   "metadata": {},
   "outputs": [],
   "source": [
    "cols = ['tripduration','start','stop','start station id','start station name','start station latitude','start station longitude','end station id','end station name','end station latitude','end station longitude','bikeid','usertype','birth year','age','gender','startdate','starttime', 'stopdate','stoptime']\n",
    "\n",
    "copy2018 = copy2018[cols]\n",
    "\n",
    "copy2018.head()"
   ]
  },
  {
   "cell_type": "code",
   "execution_count": null,
   "metadata": {},
   "outputs": [],
   "source": [
    "print(copy2018.isnull().count())\n",
    "print(copy2018.dtypes)"
   ]
  },
  {
   "cell_type": "code",
   "execution_count": null,
   "metadata": {},
   "outputs": [],
   "source": [
    "copy2018.to_csv(\"tripdataFULL_2018.csv\", index=False)"
   ]
  },
  {
   "cell_type": "markdown",
   "metadata": {},
   "source": [
    "## Load all FULL year data into one file"
   ]
  },
  {
   "cell_type": "code",
   "execution_count": null,
   "metadata": {},
   "outputs": [],
   "source": [
    "# File to Load - year: 2016 ; four months: 03 - 06 - 09 - 12\n",
    "file01 = \"tripdataFULL_2014.csv\"\n",
    "file02 = \"tripdataFULL_2016.csv\"\n",
    "file03 = \"tripdataFULL_2018.csv\"\n",
    "\n",
    "\n",
    "# Read Purchasing File and store into Pandas data frame\n",
    "td_2014 = pd.read_csv(file01)\n",
    "td_2016 = pd.read_csv(file02)\n",
    "td_2018 = pd.read_csv(file03)\n"
   ]
  },
  {
   "cell_type": "code",
   "execution_count": null,
   "metadata": {},
   "outputs": [],
   "source": [
    "## Find out datatypes and null-values in separate files\n",
    "print(\"--------2014---------\")\n",
    "print(td_2014.dtypes)\n",
    "print(td_2014.isnull().sum())\n",
    "print(\"--------2016---------\")\n",
    "print(td_2016.dtypes)\n",
    "print(td_2016.isnull().sum())\n",
    "print(\"-------2018----------\")\n",
    "print(td_2018.dtypes)\n",
    "print(td_2018.isnull().sum())\n"
   ]
  },
  {
   "cell_type": "code",
   "execution_count": null,
   "metadata": {},
   "outputs": [],
   "source": [
    "td_2014.drop('age_bins', axis=1, inplace=True)"
   ]
  },
  {
   "cell_type": "code",
   "execution_count": null,
   "metadata": {},
   "outputs": [],
   "source": [
    "## find out length of DFs\n",
    "print(f\"2014: {len(td_2014)}\")\n",
    "print(f\"2016: {len(td_2016)}\")\n",
    "print(f\"2018: {len(td_2018)}\")\n",
    "total_rows = len(td_2014) + len(td_2016) + len(td_2018)\n",
    "print(f\"total rows: {total_rows}\")"
   ]
  },
  {
   "cell_type": "code",
   "execution_count": null,
   "metadata": {},
   "outputs": [],
   "source": [
    "## check column headers are the same\n",
    "\n",
    "print(td_2014.columns)\n",
    "print(td_2016.columns)\n",
    "print(td_2018.columns)"
   ]
  },
  {
   "cell_type": "code",
   "execution_count": null,
   "metadata": {},
   "outputs": [],
   "source": [
    "## change formate of column names using .lower() to match other 2016 datasets\n",
    "td_2016.columns = map(str.lower, td_2016.columns)\n",
    "td_2016 = td_2016.rename(columns={'trip duration': 'tripduration', \"age today\": \"age\"})\n",
    "\n",
    "td_2016.columns"
   ]
  },
  {
   "cell_type": "code",
   "execution_count": null,
   "metadata": {},
   "outputs": [],
   "source": [
    "## concatenate 2014, 2016 and 2018 DFs\n",
    "alldata = pd.concat([td_2014, td_2016, td_2018], axis=0, ignore_index=True)\n",
    "print(len(alldata))\n",
    "CitiBikeALL = alldata.copy()"
   ]
  },
  {
   "cell_type": "code",
   "execution_count": null,
   "metadata": {},
   "outputs": [],
   "source": [
    "## check final DF for null-values, length and datatypes\n",
    "print(\"--------final---------\")\n",
    "print(CitiBikeALL.dtypes)\n",
    "print(CitiBikeALL.isnull().sum())\n",
    "print(len(CitiBikeALL))\n"
   ]
  },
  {
   "cell_type": "markdown",
   "metadata": {},
   "source": [
    "### Export as CSV full data set"
   ]
  },
  {
   "cell_type": "code",
   "execution_count": null,
   "metadata": {},
   "outputs": [],
   "source": [
    "CitiBikeALL.to_csv(\"CitiBike_FULL_14_16_18.csv\", index=False)"
   ]
  },
  {
   "cell_type": "code",
   "execution_count": null,
   "metadata": {},
   "outputs": [],
   "source": []
  }
 ],
 "metadata": {
  "kernelspec": {
   "display_name": "Python 3",
   "language": "python",
   "name": "python3"
  },
  "language_info": {
   "codemirror_mode": {
    "name": "ipython",
    "version": 3
   },
   "file_extension": ".py",
   "mimetype": "text/x-python",
   "name": "python",
   "nbconvert_exporter": "python",
   "pygments_lexer": "ipython3",
   "version": "3.7.3"
  }
 },
 "nbformat": 4,
 "nbformat_minor": 2
}
